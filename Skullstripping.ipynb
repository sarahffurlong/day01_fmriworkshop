{
 "cells": [
  {
   "cell_type": "markdown",
   "metadata": {},
   "source": [
    "## Skullstripping with BET"
   ]
  },
  {
   "cell_type": "markdown",
   "metadata": {},
   "source": [
    "In this tutorial I will show how to skullstrip multiple files with FSL BET"
   ]
  },
  {
   "cell_type": "code",
   "execution_count": 17,
   "metadata": {
    "collapsed": true
   },
   "outputs": [],
   "source": [
    "from subprocess import check_call\n",
    "import os.path\n",
    "from glob import glob"
   ]
  },
  {
   "cell_type": "code",
   "execution_count": 18,
   "metadata": {},
   "outputs": [],
   "source": [
    "t1w = \"/Users/Sarah/Desktop/data/subs/sub-10159/anat/*.nii.gz\""
   ]
  },
  {
   "cell_type": "code",
   "execution_count": 63,
   "metadata": {},
   "outputs": [
    {
     "name": "stdout",
     "output_type": "stream",
     "text": [
      "bet /Users/Sarah/Desktop/data/subs/sub-10159/anat/sub-10159_T1w.nii.gz /Users/Sarah/Desktop/data/subs/sub-10159/anat/sub-10159_T1w_brain -m\n",
      "bet /Users/Sarah/Desktop/data/subs/sub-10171/anat/sub-10171_T1w.nii.gz /Users/Sarah/Desktop/data/subs/sub-10171/anat/sub-10171_T1w_brain -m\n",
      "bet /Users/Sarah/Desktop/data/subs/sub-10189/anat/sub-10189_T1w.nii.gz /Users/Sarah/Desktop/data/subs/sub-10189/anat/sub-10189_T1w_brain -m\n",
      "bet /Users/Sarah/Desktop/data/subs/sub-10193/anat/sub-10193_T1w.nii.gz /Users/Sarah/Desktop/data/subs/sub-10193/anat/sub-10193_T1w_brain -m\n",
      "bet /Users/Sarah/Desktop/data/subs/sub-10206/anat/sub-10206_T1w.nii.gz /Users/Sarah/Desktop/data/subs/sub-10206/anat/sub-10206_T1w_brain -m\n",
      "bet /Users/Sarah/Desktop/data/subs/sub-10217/anat/sub-10217_T1w.nii.gz /Users/Sarah/Desktop/data/subs/sub-10217/anat/sub-10217_T1w_brain -m\n",
      "bet /Users/Sarah/Desktop/data/subs/sub-10225/anat/sub-10225_T1w.nii.gz /Users/Sarah/Desktop/data/subs/sub-10225/anat/sub-10225_T1w_brain -m\n",
      "bet /Users/Sarah/Desktop/data/subs/sub-10227/anat/sub-10227_T1w.nii.gz /Users/Sarah/Desktop/data/subs/sub-10227/anat/sub-10227_T1w_brain -m\n",
      "bet /Users/Sarah/Desktop/data/subs/sub-10228/anat/sub-10228_T1w.nii.gz /Users/Sarah/Desktop/data/subs/sub-10228/anat/sub-10228_T1w_brain -m\n",
      "bet /Users/Sarah/Desktop/data/subs/sub-10235/anat/sub-10235_T1w.nii.gz /Users/Sarah/Desktop/data/subs/sub-10235/anat/sub-10235_T1w_brain -m\n",
      "bet /Users/Sarah/Desktop/data/subs/sub-10249/anat/sub-10249_T1w.nii.gz /Users/Sarah/Desktop/data/subs/sub-10249/anat/sub-10249_T1w_brain -m\n",
      "bet /Users/Sarah/Desktop/data/subs/sub-10269/anat/sub-10269_T1w.nii.gz /Users/Sarah/Desktop/data/subs/sub-10269/anat/sub-10269_T1w_brain -m\n",
      "bet /Users/Sarah/Desktop/data/subs/sub-10271/anat/sub-10271_T1w.nii.gz /Users/Sarah/Desktop/data/subs/sub-10271/anat/sub-10271_T1w_brain -m\n",
      "bet /Users/Sarah/Desktop/data/subs/sub-10273/anat/sub-10273_T1w.nii.gz /Users/Sarah/Desktop/data/subs/sub-10273/anat/sub-10273_T1w_brain -m\n",
      "bet /Users/Sarah/Desktop/data/subs/sub-10274/anat/sub-10274_T1w.nii.gz /Users/Sarah/Desktop/data/subs/sub-10274/anat/sub-10274_T1w_brain -m\n",
      "bet /Users/Sarah/Desktop/data/subs/sub-10280/anat/sub-10280_T1w.nii.gz /Users/Sarah/Desktop/data/subs/sub-10280/anat/sub-10280_T1w_brain -m\n",
      "bet /Users/Sarah/Desktop/data/subs/sub-10290/anat/sub-10290_T1w.nii.gz /Users/Sarah/Desktop/data/subs/sub-10290/anat/sub-10290_T1w_brain -m\n",
      "bet /Users/Sarah/Desktop/data/subs/sub-10292/anat/sub-10292_T1w.nii.gz /Users/Sarah/Desktop/data/subs/sub-10292/anat/sub-10292_T1w_brain -m\n"
     ]
    }
   ],
   "source": [
    "output_dir = \"/Users/Sarah/Desktop/data/subs/sub-*/anat\"\n",
    "for input_file in glob(\"/Users/Sarah/Desktop/data/subs/sub-*/anat/*.nii.gz\"):\n",
    "    my_cmd_template = \"bet {input_file} {output_file} -m\"\n",
    "    directory, file_name = os.path.split(input_file)\n",
    "    out_file_name = file_name.split(\".\")[0]+ \"_brain\"\n",
    "    out_path = os.path.join(directory, out_file_name)\n",
    "    cmd = (my_cmd_template.format(input_file=input_file, output_file=out_path))\n",
    "    print(cmd)\n",
    "    check_call(cmd, shell=True)"
   ]
  },
  {
   "cell_type": "code",
   "execution_count": 31,
   "metadata": {},
   "outputs": [
    {
     "name": "stdout",
     "output_type": "stream",
     "text": [
      "/Users/Sarah/Desktop/data/ds000030_R1.0.5/sub-10159_T1w_brain.nii.gz\r\n"
     ]
    }
   ],
   "source": [
    "!ls /Users/Sarah/Desktop/data/ds000030_R1.0.5/sub-10159_T1w_brain.nii.gz"
   ]
  },
  {
   "cell_type": "code",
   "execution_count": 38,
   "metadata": {},
   "outputs": [
    {
     "data": {
      "text/plain": [
       "'sub-10159_T1w_brain'"
      ]
     },
     "execution_count": 38,
     "metadata": {},
     "output_type": "execute_result"
    }
   ],
   "source": [
    "directory, file_name = os.path.split(\"/Users/Sarah/Desktop/data/ds000030_R1.0.5/sub-10159_T1w_brain.nii.gz\")\n",
    "list_of_tokens = file_name.split(\".\")\n",
    "list_of_tokens[0]"
   ]
  },
  {
   "cell_type": "code",
   "execution_count": 39,
   "metadata": {},
   "outputs": [
    {
     "data": {
      "text/plain": [
       "'dir1/dir2/dir3'"
      ]
     },
     "execution_count": 39,
     "metadata": {},
     "output_type": "execute_result"
    }
   ],
   "source": [
    "os.path.join(\"dir1\",\"dir2\",\"dir3\")"
   ]
  },
  {
   "cell_type": "code",
   "execution_count": 75,
   "metadata": {},
   "outputs": [
    {
     "name": "stdout",
     "output_type": "stream",
     "text": [
      "racoon is the best animal but i like bunny too\n",
      "racoon is the best animal but i like giraffe too\n",
      "dog is the best animal but i like bunny too\n",
      "dog is the best animal but i like giraffe too\n"
     ]
    }
   ],
   "source": [
    "list=(\"racoon\",\"dog\",\"bunny\",\"giraffe\")\n",
    "for y in list:\n",
    "    template = \"{x} is the best animal but i like {z} too\"\n",
    "    x = y[0]\n",
    "    out = template.format(x=y,z=w)\n",
    "    print out\n",
    "    \n",
    "    \n",
    "  #  my_cmd_template = \"bet {input_file} {output_file} -m\"\n",
    "  #  cmd = (my_cmd_template.format(input_file=input_file, output_file=out_path))\n",
    "  #  print(cmd)\n",
    "#print template.format(animal_name=\"racoon\")\n",
    "#print template.format(animal_name=\"squirrel\")\n",
    "#print template.format(animal_name=\"sloth\")\n",
    "#print template.format(animal_name=\"dog\")"
   ]
  },
  {
   "cell_type": "code",
   "execution_count": 62,
   "metadata": {},
   "outputs": [
    {
     "name": "stdout",
     "output_type": "stream",
     "text": [
      "\r\n",
      "Usage:    bet <input> <output> [options]\r\n",
      "\r\n",
      "Main bet2 options:\r\n",
      "  -o          generate brain surface outline overlaid onto original image\r\n",
      "  -m          generate binary brain mask\r\n",
      "  -s          generate approximate skull image\r\n",
      "  -n          don't generate segmented brain image output\r\n",
      "  -f <f>      fractional intensity threshold (0->1); default=0.5; smaller values give larger brain outline estimates\r\n",
      "  -g <g>      vertical gradient in fractional intensity threshold (-1->1); default=0; positive values give larger brain outline at bottom, smaller at top\r\n",
      "  -r <r>      head radius (mm not voxels); initial surface sphere is set to half of this\r\n",
      "  -c <x y z>  centre-of-gravity (voxels not mm) of initial mesh surface.\r\n",
      "  -t          apply thresholding to segmented brain image and mask\r\n",
      "  -e          generates brain surface as mesh in .vtk format\r\n",
      "\r\n",
      "Variations on default bet2 functionality (mutually exclusive options):\r\n",
      "  (default)   just run bet2\r\n",
      "  -R          robust brain centre estimation (iterates BET several times)\r\n",
      "  -S          eye & optic nerve cleanup (can be useful in SIENA)\r\n",
      "  -B          bias field & neck cleanup (can be useful in SIENA)\r\n",
      "  -Z          improve BET if FOV is very small in Z (by temporarily padding end slices)\r\n",
      "  -F          apply to 4D FMRI data (uses -f 0.3 and dilates brain mask slightly)\r\n",
      "  -A          run bet2 and then betsurf to get additional skull and scalp surfaces (includes registrations)\r\n",
      "  -A2 <T2>    as with -A, when also feeding in non-brain-extracted T2 (includes registrations)\r\n",
      "\r\n",
      "Miscellaneous options:\r\n",
      "  -v          verbose (switch on diagnostic messages)\r\n",
      "  -h          display this help, then exits\r\n",
      "  -d          debug (don't delete temporary intermediate images)\r\n",
      "\r\n"
     ]
    }
   ],
   "source": [
    "!bet"
   ]
  },
  {
   "cell_type": "code",
   "execution_count": null,
   "metadata": {
    "collapsed": true
   },
   "outputs": [],
   "source": []
  }
 ],
 "metadata": {
  "kernelspec": {
   "display_name": "Python 2",
   "language": "python",
   "name": "python2"
  },
  "language_info": {
   "codemirror_mode": {
    "name": "ipython",
    "version": 2
   },
   "file_extension": ".py",
   "mimetype": "text/x-python",
   "name": "python",
   "nbconvert_exporter": "python",
   "pygments_lexer": "ipython2",
   "version": "2.7.14"
  }
 },
 "nbformat": 4,
 "nbformat_minor": 2
}
